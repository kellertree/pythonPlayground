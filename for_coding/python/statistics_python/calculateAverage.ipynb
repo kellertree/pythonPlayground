{
 "cells": [
  {
   "cell_type": "code",
   "execution_count": 2,
   "metadata": {},
   "outputs": [
    {
     "name": "stdout",
     "output_type": "stream",
     "text": [
      "Average: 12.5\n"
     ]
    }
   ],
   "source": [
    "# Creating statistics calculators\n",
    "\n",
    "def calculate_average(numbers):\n",
    "    total = sum(numbers)\n",
    "    count = len(numbers)\n",
    "    average = total / count \n",
    "    return average\n",
    "\n",
    "# Example usage\n",
    "numbers = [5, 10, 15, 20]\n",
    "avg = calculate_average(numbers)\n",
    "print(\"Average:\", avg) "
   ]
  },
  {
   "cell_type": "code",
   "execution_count": 3,
   "metadata": {},
   "outputs": [
    {
     "name": "stdout",
     "output_type": "stream",
     "text": [
      "Average: 28.5\n"
     ]
    }
   ],
   "source": [
    "numbers = [7, 21, 32, 54]\n",
    "avg = calculate_average(numbers)\n",
    "print(\"Average:\", avg)"
   ]
  },
  {
   "cell_type": "code",
   "execution_count": 5,
   "metadata": {},
   "outputs": [
    {
     "name": "stdout",
     "output_type": "stream",
     "text": [
      "Total: 50\n",
      "Count: 4\n",
      "Average: 12.5\n",
      "Final Average: 12.5\n"
     ]
    }
   ],
   "source": [
    "def calculate_average_showwork(numbers):\n",
    "    total = sum(numbers)\n",
    "    count = len(numbers)\n",
    "    print(\"Total:\", total)\n",
    "    print(\"Count:\", count)\n",
    "    average = total / count\n",
    "    print(\"Average:\", average)\n",
    "    return average\n",
    "\n",
    "# Example usage\n",
    "numbers = [5, 10, 15, 20]\n",
    "avg = calculate_average_showwork(numbers)\n",
    "print(\"Final Average:\", avg)"
   ]
  },
  {
   "cell_type": "code",
   "execution_count": null,
   "metadata": {},
   "outputs": [],
   "source": []
  }
 ],
 "metadata": {
  "kernelspec": {
   "display_name": "Python 3",
   "language": "python",
   "name": "python3"
  },
  "language_info": {
   "codemirror_mode": {
    "name": "ipython",
    "version": 3
   },
   "file_extension": ".py",
   "mimetype": "text/x-python",
   "name": "python",
   "nbconvert_exporter": "python",
   "pygments_lexer": "ipython3",
   "version": "3.11.8"
  }
 },
 "nbformat": 4,
 "nbformat_minor": 2
}

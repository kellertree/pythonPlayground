{
 "cells": [
  {
   "cell_type": "code",
   "execution_count": 2,
   "metadata": {},
   "outputs": [
    {
     "name": "stdout",
     "output_type": "stream",
     "text": [
      "['A', 'A', 'A', 'B', 'B', 'C', 'C']\n"
     ]
    }
   ],
   "source": [
    "def counting_sort_ABC(arr):\n",
    "    # Initialize count dictionary for 'A', 'B', and 'C'\n",
    "    count = {'A':0, 'B':0, 'C':0}\n",
    "\n",
    "    # Count the occurrences of each element in the array\n",
    "    for element in arr:\n",
    "        if element in count:\n",
    "            count[element] += 1\n",
    "\n",
    "    # Generate the sorted array based on the counts\n",
    "    sorted_arr = ['A'] * count['A'] + ['B'] * count['B'] + ['C'] * count['C']\n",
    "\n",
    "    return sorted_arr\n",
    "\n",
    "# Example usage:\n",
    "input_list = ['B', 'C', 'A', 'B', 'C', 'A', 'A']\n",
    "sorted_list = counting_sort_ABC(input_list)\n",
    "print(sorted_list)\n"
   ]
  },
  {
   "cell_type": "code",
   "execution_count": null,
   "metadata": {},
   "outputs": [],
   "source": []
  }
 ],
 "metadata": {
  "kernelspec": {
   "display_name": "Python 3",
   "language": "python",
   "name": "python3"
  },
  "language_info": {
   "codemirror_mode": {
    "name": "ipython",
    "version": 3
   },
   "file_extension": ".py",
   "mimetype": "text/x-python",
   "name": "python",
   "nbconvert_exporter": "python",
   "pygments_lexer": "ipython3",
   "version": "3.11.9"
  }
 },
 "nbformat": 4,
 "nbformat_minor": 2
}

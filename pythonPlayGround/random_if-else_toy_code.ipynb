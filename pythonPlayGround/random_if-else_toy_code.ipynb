{
 "cells": [
  {
   "cell_type": "code",
   "execution_count": 1,
   "metadata": {},
   "outputs": [
    {
     "name": "stdout",
     "output_type": "stream",
     "text": [
      "71\n",
      "Weird\n"
     ]
    }
   ],
   "source": [
    "# If n is odd, print weird\n",
    "# If n is even and in the inclusive range of 2 to 5, print Not Weird\n",
    "# If n is even and in the inclusive range of 6 to 20, print Weird\n",
    "# If n is even adn greater than 20, print Not Weird\n",
    "\n",
    "import math\n",
    "import os\n",
    "import random\n",
    "import re\n",
    "import sys\n",
    "\n",
    "# The randint() function generates a random number between 1 and 100.\n",
    "# It than assigns that number to n each time the code is ran.\n",
    "\n",
    "n = random.randint(1, 100)\n",
    "print(n)\n",
    "if (n % 2 != 0):\n",
    "    print('Weird')\n",
    "elif (n % 2 == 0) and (2 <= n < 5):\n",
    "    print('Not Weird')\n",
    "elif (n % 2 == 0) and (6 <= n <= 20):\n",
    "    print('Weird')\n",
    "elif (n % 2 == 0) and (n > 20):\n",
    "    print('Not Weird')"
   ]
  },
  {
   "cell_type": "code",
   "execution_count": null,
   "metadata": {},
   "outputs": [],
   "source": []
  }
 ],
 "metadata": {
  "kernelspec": {
   "display_name": "Python 3",
   "language": "python",
   "name": "python3"
  },
  "language_info": {
   "codemirror_mode": {
    "name": "ipython",
    "version": 3
   },
   "file_extension": ".py",
   "mimetype": "text/x-python",
   "name": "python",
   "nbconvert_exporter": "python",
   "pygments_lexer": "ipython3",
   "version": "3.11.6"
  }
 },
 "nbformat": 4,
 "nbformat_minor": 2
}

{
 "cells": [
  {
   "cell_type": "code",
   "execution_count": 7,
   "metadata": {},
   "outputs": [
    {
     "name": "stdout",
     "output_type": "stream",
     "text": [
      "This gameboy requires electricity.\n",
      "\n",
      "The action figure does not require electricity.\n",
      "\n",
      "The carved stick does not require electricity.\n",
      "\n",
      "This squirt gun requires water.\n",
      "\n",
      "I think I will play with the carved stick today.\n"
     ]
    }
   ],
   "source": [
    "# The line below creates a list of toys.\n",
    "toy_box = ['gameboy', 'action figure', 'carved stick', 'squirt gun']\n",
    "# The following statement checks to see if the toy requires electricity or not.\n",
    "for toy in toy_box:\n",
    "    if toy == 'gameboy':\n",
    "        print(f'This {toy} requires electricity.\\n')\n",
    "    elif toy == 'squirt gun':\n",
    "        print(f'This {toy} requires water.\\n')\n",
    "    else:\n",
    "        print(f'The {toy} does not require electricity.\\n')\n",
    "print(f'I think I will play with the {toy_box[2]} today.')\n",
    "\n"
   ]
  },
  {
   "cell_type": "code",
   "execution_count": null,
   "metadata": {},
   "outputs": [],
   "source": []
  }
 ],
 "metadata": {
  "kernelspec": {
   "display_name": "Python 3",
   "language": "python",
   "name": "python3"
  },
  "language_info": {
   "codemirror_mode": {
    "name": "ipython",
    "version": 3
   },
   "file_extension": ".py",
   "mimetype": "text/x-python",
   "name": "python",
   "nbconvert_exporter": "python",
   "pygments_lexer": "ipython3",
   "version": "3.11.6"
  }
 },
 "nbformat": 4,
 "nbformat_minor": 2
}

{
  "metadata": {
    "kernelspec": {
      "name": "python",
      "display_name": "Python (Pyodide)",
      "language": "python"
    },
    "language_info": {
      "codemirror_mode": {
        "name": "python",
        "version": 3
      },
      "file_extension": ".py",
      "mimetype": "text/x-python",
      "name": "python",
      "nbconvert_exporter": "python",
      "pygments_lexer": "ipython3",
      "version": "3.8"
    }
  },
  "nbformat_minor": 4,
  "nbformat": 4,
  "cells": [
    {
      "cell_type": "code",
      "source": "print(\"Hello World!\")\n\nmessage = \"Hello Python World!\"\nprint(message)",
      "metadata": {
        "trusted": true
      },
      "outputs": [
        {
          "name": "stdout",
          "text": "Hello World!\nHello Python World!\n",
          "output_type": "stream"
        }
      ],
      "execution_count": 14
    },
    {
      "cell_type": "code",
      "source": "# Create a guest list and send messages to invite them to dinner.\nguest_list = ['einstein','tesla', 'medicci']\n# Creating a message for each guest and print. Demonstrating index selection.\nprint(f\"Hello {guest_list[0].title()}, Would you like to come to dinner?\")\nprint(f\"Hello {guest_list[1].title()}, Would you like to come to dinner?\")\nprint(f\"Hello {guest_list[2].title()}, Would you like to come to dinner?\")\n# Removes the last guest in the list.\npopped_guest = guest_list.pop()\n# Adds johanesse to the guest list at index 1.\nguest_list.insert(1, 'johanesse')\n# Removes the guest that will not be able to attend and lets people know they won't be attending.\nprint(f\"{popped_guest.title()} will not be able to attend. So I have invited {guest_list[1].title()}.\")\n# Creating a message for each guest and print. Demonstrating index selection.\nprint(f\"\\nHello {guest_list[0].title()}, Would you like to come to dinner?\")\nprint(f\"Hello {guest_list[1].title()}, Would you like to come to dinner?\")\nprint(f\"Hello {guest_list[2].title()}, Would you like to come to dinner?\")\n\n# Demonstrates insert function and adds guests to the list.\nguest_list.insert(0, 'edison')\nguest_list.insert(2, 'tim berners-lee')\n\n# Demonstrates append function and places a name at the end of the list.\nguest_list.append('elon musk')\n\n# Demonstrates a for loop printing out a message to each guest in the list.\nfor guest in guest_list:\n    print(f\"\\nHello {guest.title()}, Would you like to come to dinner?\")\n\nprint(f\"\\nI am now only able to invite 2 people to dinner.\")\n\n# While there are more than 2 guests on the lists pop guest and send them a message.\nwhile len(guest_list) > 2:\n    removed_guest = guest_list.pop()\n    print(f\"I am sorry {removed_guest.title()}. I am no longer able to invite you to dinner.\")\n# For each guest in list send them a message.\nfor guest in guest_list:\n    print(f\"Hello {guest.title()}, you are still invited to dinner.\")\n# While there are still guest on the list delete each guest from the list.\nwhile len(guest_list) != 0:\n    del guest_list[0]\n# Print the empty guest list.\nprint(guest_list)",
      "metadata": {
        "trusted": true
      },
      "outputs": [
        {
          "name": "stdout",
          "text": "Hello Einstein, Would you like to come to dinner?\nHello Tesla, Would you like to come to dinner?\nHello Medicci, Would you like to come to dinner?\nMedicci will not be able to attend. So I have invited Johanesse.\n\nHello Einstein, Would you like to come to dinner?\nHello Johanesse, Would you like to come to dinner?\nHello Tesla, Would you like to come to dinner?\n\nHello Edison, Would you like to come to dinner?\n\nHello Einstein, Would you like to come to dinner?\n\nHello Tim Berners-Lee, Would you like to come to dinner?\n\nHello Johanesse, Would you like to come to dinner?\n\nHello Tesla, Would you like to come to dinner?\n\nHello Elon Musk, Would you like to come to dinner?\n\nI am now only able to invite 2 people to dinner.\nI am sorry Elon Musk. I am no longer able to invite you to dinner.\nI am sorry Tesla. I am no longer able to invite you to dinner.\nI am sorry Johanesse. I am no longer able to invite you to dinner.\nI am sorry Tim Berners-Lee. I am no longer able to invite you to dinner.\nHello Edison, you are still invited to dinner.\nHello Einstein, you are still invited to dinner.\n[]\n",
          "output_type": "stream"
        }
      ],
      "execution_count": 36
    },
    {
      "cell_type": "code",
      "source": "",
      "metadata": {
        "trusted": true
      },
      "outputs": [],
      "execution_count": null
    },
    {
      "cell_type": "code",
      "source": "",
      "metadata": {
        "trusted": true
      },
      "outputs": [],
      "execution_count": null
    }
  ]
}
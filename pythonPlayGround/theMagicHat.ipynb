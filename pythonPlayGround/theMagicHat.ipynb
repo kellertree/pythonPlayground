{
 "cells": [
  {
   "cell_type": "code",
   "execution_count": 7,
   "metadata": {},
   "outputs": [
    {
     "name": "stdout",
     "output_type": "stream",
     "text": [
      "From my magic hat I pull out a jar of jelly!\n",
      "Now that I have a jar of jelly, I will need some peanut butter.\n"
     ]
    }
   ],
   "source": [
    "# The magic hat\n",
    "# The code below selects a random item from the magic hat and displays it in a sentence.\n",
    "# Needs to be put in a python environment such as IDLE, Jupyter Notebook, or an IDE like pyChram in order to work.\n",
    "\n",
    "import random\n",
    "\n",
    "magic_hat = ['a good book', 'a pair of gloves', 'a rabbit', 'a wand', 'a spider', 'a bird', 'a stuffed panda', 'a jar of jelly', 'a quarter']\n",
    "\n",
    "random_item = random.choice(magic_hat)\n",
    "\n",
    "print(f\"From my magic hat I pull out {random_item}!\")\n",
    "\n",
    "if random_item == 'a good book':\n",
    "    print(f'I can use {random_item}')\n",
    "elif random_item == 'a rabbit':\n",
    "    print(f'How did you get in there?')\n",
    "elif random_item == 'a wand':\n",
    "    print(f'With a wand we can do some real magic!')\n",
    "elif random_item == 'a spider':\n",
    "    print(f'Eek! {random_item} was in my hat! I have had it on my head all day!')\n",
    "elif random_item == 'a pair of gloves':\n",
    "    print(f'In winter {random_item} can keep your hands warm.')\n",
    "elif random_item == 'a stuffed panda':\n",
    "    print(f'Oh! What Joy! I always wanted a {random_item}!')\n",
    "elif random_item == 'a quarter':\n",
    "    print(f\"At least I didn't have {random_item} come out of my ear this time.\\n It's quite the unpleasant experience.\")\n",
    "else:\n",
    "    print(f\"Now that I have {random_item}, I will need some peanut butter.\")\n"
   ]
  },
  {
   "cell_type": "code",
   "execution_count": 8,
   "metadata": {},
   "outputs": [
    {
     "name": "stdout",
     "output_type": "stream",
     "text": [
      "From my magic hat I pull out a wand!\n",
      "With a wand we can do some real magic!\n"
     ]
    }
   ],
   "source": [
    "# Alternative cleaner method.\n",
    "\n",
    "import random\n",
    "\n",
    "# Create a dictionary to store item descriptions\n",
    "item_descriptions = {\n",
    "    'a good book': 'I can use a good book',\n",
    "    'a rabbit': 'How did you get in there?',\n",
    "    'a wand': 'With a wand we can do some real magic!',\n",
    "    'a spider': 'Eek! a spider was in my hat! I have had it on my head all day!',\n",
    "    'a pair of gloves': 'In winter a pair of gloves can keep your hands warm.',\n",
    "    'a stuffed panda': 'Oh! What Joy! I always wanted a stuffed panda!',\n",
    "    'a jar of jelly': 'Now that I have a jar of jelly, I will need some peanut butter.',\n",
    "    'a quarter': \"At least I didn't have a quarter come out of my ear this time.\\nIt's quite the unpleasant experience.\"\n",
    "}\n",
    "\n",
    "magic_hat = list(item_descriptions.keys())\n",
    "\n",
    "random_item = random.choice(magic_hat)\n",
    "description = item_descriptions.get(random_item, \"Now that I have {random_item}, I will need some peanut butter.\")\n",
    "\n",
    "print(f\"From my magic hat I pull out {random_item}!\")\n",
    "print(description)"
   ]
  },
  {
   "cell_type": "code",
   "execution_count": null,
   "metadata": {},
   "outputs": [],
   "source": []
  }
 ],
 "metadata": {
  "kernelspec": {
   "display_name": "Python 3",
   "language": "python",
   "name": "python3"
  },
  "language_info": {
   "codemirror_mode": {
    "name": "ipython",
    "version": 3
   },
   "file_extension": ".py",
   "mimetype": "text/x-python",
   "name": "python",
   "nbconvert_exporter": "python",
   "pygments_lexer": "ipython3",
   "version": "3.11.6"
  }
 },
 "nbformat": 4,
 "nbformat_minor": 2
}

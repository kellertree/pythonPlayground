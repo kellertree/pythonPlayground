# This is a test file.

print("Hello World!")

learning_goals = ["programming", "engineering", "science", "data anaytics", "artificial intellgience"]
print(learning_goals)

for goal in learning_goals:
        print(f"My goal is to learn {learning_goals}.")

pritn("I have already made considerable progress. It would be even more beneficial if someone would hire me though.")
